{
  "nbformat": 4,
  "nbformat_minor": 0,
  "metadata": {
    "colab": {
      "provenance": []
    },
    "kernelspec": {
      "name": "python3",
      "display_name": "Python 3"
    },
    "language_info": {
      "name": "python"
    }
  },
  "cells": [
    {
      "cell_type": "code",
      "execution_count": null,
      "metadata": {
        "id": "IZuIUtZHe-bG"
      },
      "outputs": [],
      "source": []
    },
    {
      "cell_type": "code",
      "source": [
        "# prompt: AI-Based Number Guessing Game\n",
        "\n",
        "import random\n",
        "\n",
        "def number_guessing_game():\n",
        "    \"\"\"\n",
        "    A simple AI-based number guessing game.\n",
        "    The AI will try to guess a number you're thinking of between 1 and 100.\n",
        "    \"\"\"\n",
        "\n",
        "    print(\"Think of a number between 1 and 100.\")\n",
        "    print(\"I will try to guess it.\")\n",
        "\n",
        "    low = 1\n",
        "    high = 100\n",
        "    guess = 0\n",
        "    attempts = 0\n",
        "\n",
        "    while True:\n",
        "        guess = (low + high) // 2  # Binary search approach\n",
        "        attempts += 1\n",
        "\n",
        "        response = input(f\"Is your number {guess}? (Type 'higher', 'lower', or 'correct'): \").lower()\n",
        "\n",
        "        if response == \"correct\":\n",
        "            print(f\"I guessed your number in {attempts} attempts!\")\n",
        "            break\n",
        "        elif response == \"higher\":\n",
        "            low = guess + 1\n",
        "        elif response == \"lower\":\n",
        "            high = guess - 1\n",
        "        else:\n",
        "            print(\"Invalid input. Please type 'higher', 'lower', or 'correct'.\")\n",
        "\n",
        "if __name__ == \"__main__\":\n",
        "    number_guessing_game()"
      ],
      "metadata": {
        "colab": {
          "base_uri": "https://localhost:8080/"
        },
        "id": "L7dSg_79j-at",
        "outputId": "6dca319f-50ed-4c31-87e4-1a66c8191b50"
      },
      "execution_count": 1,
      "outputs": [
        {
          "output_type": "stream",
          "name": "stdout",
          "text": [
            "Think of a number between 1 and 100.\n",
            "I will try to guess it.\n",
            "Is your number 50? (Type 'higher', 'lower', or 'correct'): lower\n",
            "Is your number 25? (Type 'higher', 'lower', or 'correct'): lower\n",
            "Is your number 12? (Type 'higher', 'lower', or 'correct'): higher\n",
            "Is your number 18? (Type 'higher', 'lower', or 'correct'): higher\n",
            "Is your number 21? (Type 'higher', 'lower', or 'correct'): higher\n",
            "Is your number 23? (Type 'higher', 'lower', or 'correct'): higher\n",
            "Is your number 24? (Type 'higher', 'lower', or 'correct'): correct\n",
            "I guessed your number in 7 attempts!\n"
          ]
        }
      ]
    }
  ]
}